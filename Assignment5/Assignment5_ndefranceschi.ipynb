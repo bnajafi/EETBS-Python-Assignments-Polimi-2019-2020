{
 "cells": [
  {
   "cell_type": "markdown",
   "metadata": {},
   "source": [
    "## Assignment 5 N_Defranceschi"
   ]
  },
  {
   "cell_type": "code",
   "execution_count": 2,
   "metadata": {
    "collapsed": true
   },
   "outputs": [],
   "source": [
    "import numpy as np"
   ]
  },
  {
   "cell_type": "code",
   "execution_count": 34,
   "metadata": {
    "collapsed": false
   },
   "outputs": [],
   "source": [
    "Resistance_names = np.array([\"Rin\",\"Rwood_a\",\"Rfiber\",\"Rglass_fib\",\"Rwood_b\",\"Rgypsum\",\"Rout\"])\n",
    "Resistance_types = np.array([\"conv\",\"cond\",\"cond\",\"cond\",\"cond\",\"cond\",\"conv\"])\n",
    "Resistance_wood = np.array([0.12,0.14,0.23,0,0.63,0.079,0.03])\n",
    "Resistance_insulation = np.array([0.12,0.14,0.23,0.7,0,0.079,0.03])\n",
    "MaterialThickness = np.array([0,13,13,90,90,13,0])\n",
    "MaterialStandardThickness = np.array([0,13,13,25,90,13,0])\n",
    "\n"
   ]
  },
  {
   "cell_type": "code",
   "execution_count": 56,
   "metadata": {
    "collapsed": false
   },
   "outputs": [
    {
     "data": {
      "text/plain": [
       "array([ 0.,  0.,  0.,  0.,  0.,  0.,  0.])"
      ]
     },
     "execution_count": 56,
     "metadata": {},
     "output_type": "execute_result"
    }
   ],
   "source": [
    "Resistance_RValues_wood = np.zeros(7)\n",
    "Resistance_RValues_wood"
   ]
  },
  {
   "cell_type": "code",
   "execution_count": 57,
   "metadata": {
    "collapsed": false
   },
   "outputs": [
    {
     "data": {
      "text/plain": [
       "array([ 0.12,  0.03])"
      ]
     },
     "execution_count": 57,
     "metadata": {},
     "output_type": "execute_result"
    }
   ],
   "source": [
    "Resistance_wood[Resistance_types == \"conv\"]"
   ]
  },
  {
   "cell_type": "code",
   "execution_count": 58,
   "metadata": {
    "collapsed": false
   },
   "outputs": [
    {
     "data": {
      "text/plain": [
       "array([ 0.14 ,  0.23 ,  0.   ,  0.63 ,  0.079])"
      ]
     },
     "execution_count": 58,
     "metadata": {},
     "output_type": "execute_result"
    }
   ],
   "source": [
    "Resistance_wood[Resistance_types == \"cond\"]*MaterialThickness[Resistance_types == \"cond\"]/MaterialStandardThickness[Resistance_types == \"cond\"]"
   ]
  },
  {
   "cell_type": "code",
   "execution_count": 59,
   "metadata": {
    "collapsed": false
   },
   "outputs": [
    {
     "data": {
      "text/plain": [
       "array([ 0.12 ,  0.14 ,  0.23 ,  0.   ,  0.63 ,  0.079,  0.03 ])"
      ]
     },
     "execution_count": 59,
     "metadata": {},
     "output_type": "execute_result"
    }
   ],
   "source": [
    "Resistance_RValues_wood[Resistance_types == \"conv\"]=Resistance_wood[Resistance_types == \"conv\"]\n",
    "Resistance_RValues_wood[Resistance_types == \"cond\"]=Resistance_wood[Resistance_types == \"cond\"]*MaterialThickness[Resistance_types == \"cond\"]/MaterialStandardThickness[Resistance_types == \"cond\"]\n",
    "Resistance_RValues_wood"
   ]
  },
  {
   "cell_type": "code",
   "execution_count": 60,
   "metadata": {
    "collapsed": false
   },
   "outputs": [
    {
     "data": {
      "text/plain": [
       "1.229"
      ]
     },
     "execution_count": 60,
     "metadata": {},
     "output_type": "execute_result"
    }
   ],
   "source": [
    "Resistance_RValuesWoodtot = Resistance_RValues_wood.sum()\n",
    "Resistance_RValuesWoodtot\n",
    "round(Resistance_RValuesWoodtot,3)"
   ]
  },
  {
   "cell_type": "code",
   "execution_count": 61,
   "metadata": {
    "collapsed": false
   },
   "outputs": [
    {
     "data": {
      "text/plain": [
       "array([ 0.,  0.,  0.,  0.,  0.,  0.,  0.])"
      ]
     },
     "execution_count": 61,
     "metadata": {},
     "output_type": "execute_result"
    }
   ],
   "source": [
    "Resistance_RValues_insulation = np.zeros(7)\n",
    "Resistance_RValues_insulation"
   ]
  },
  {
   "cell_type": "code",
   "execution_count": 48,
   "metadata": {
    "collapsed": false
   },
   "outputs": [
    {
     "data": {
      "text/plain": [
       "array([ 0.12,  0.03])"
      ]
     },
     "execution_count": 48,
     "metadata": {},
     "output_type": "execute_result"
    }
   ],
   "source": [
    "Resistance_insulation[Resistance_types == \"conv\"]\n"
   ]
  },
  {
   "cell_type": "code",
   "execution_count": 49,
   "metadata": {
    "collapsed": false
   },
   "outputs": [
    {
     "data": {
      "text/plain": [
       "array([ 0.14 ,  0.23 ,  2.52 ,  0.   ,  0.079])"
      ]
     },
     "execution_count": 49,
     "metadata": {},
     "output_type": "execute_result"
    }
   ],
   "source": [
    "Resistance_insulation[Resistance_types == \"cond\"]*MaterialThickness[Resistance_types == \"cond\"]/MaterialStandardThickness[Resistance_types == \"cond\"]"
   ]
  },
  {
   "cell_type": "code",
   "execution_count": 62,
   "metadata": {
    "collapsed": false
   },
   "outputs": [
    {
     "data": {
      "text/plain": [
       "array([ 0.12 ,  0.14 ,  0.23 ,  2.52 ,  0.   ,  0.079,  0.03 ])"
      ]
     },
     "execution_count": 62,
     "metadata": {},
     "output_type": "execute_result"
    }
   ],
   "source": [
    "Resistance_RValues_insulation[Resistance_types == \"conv\"]=Resistance_insulation[Resistance_types == \"conv\"]\n",
    "Resistance_RValues_insulation[Resistance_types == \"cond\"]=Resistance_insulation[Resistance_types == \"cond\"]*MaterialThickness[Resistance_types == \"cond\"]/MaterialStandardThickness[Resistance_types == \"cond\"]\n",
    "Resistance_RValues_insulation"
   ]
  },
  {
   "cell_type": "code",
   "execution_count": 63,
   "metadata": {
    "collapsed": false
   },
   "outputs": [
    {
     "data": {
      "text/plain": [
       "3.119"
      ]
     },
     "execution_count": 63,
     "metadata": {},
     "output_type": "execute_result"
    }
   ],
   "source": [
    "Resistance_RValuesInsulationtot = Resistance_RValues_insulation.sum()\n",
    "Resistance_RValuesInsulationtot\n",
    "round(Resistance_RValuesInsulationtot,3)"
   ]
  },
  {
   "cell_type": "markdown",
   "metadata": {},
   "source": [
    "Computation of **deltaT**,**U** and **Q**"
   ]
  },
  {
   "cell_type": "code",
   "execution_count": 74,
   "metadata": {
    "collapsed": false
   },
   "outputs": [
    {
     "name": "stdout",
     "output_type": "stream",
     "text": [
      "0.813669650122\n",
      "0.320615581917\n"
     ]
    }
   ],
   "source": [
    "p = 50 \n",
    "h = 2.5\n",
    "A = p*h*(0.8)\n",
    "U_wood = 1/Resistance_RValuesWoodtot\n",
    "U_ins = 1/Resistance_RValuesInsulationtot\n",
    "print(U_wood)\n",
    "print(U_ins)\n"
   ]
  },
  {
   "cell_type": "code",
   "execution_count": 75,
   "metadata": {
    "collapsed": false
   },
   "outputs": [
    {
     "name": "stdout",
     "output_type": "stream",
     "text": [
      "The overall thermal coefficient\n"
     ]
    },
    {
     "data": {
      "text/plain": [
       "0.4439"
      ]
     },
     "execution_count": 75,
     "metadata": {},
     "output_type": "execute_result"
    }
   ],
   "source": [
    "U_tot = 0.75*U_ins + 0.25*U_wood\n",
    "print(\"The overall thermal coefficient\")\n",
    "U_tot\n",
    "round(U_tot,4)"
   ]
  },
  {
   "cell_type": "code",
   "execution_count": 76,
   "metadata": {
    "collapsed": false
   },
   "outputs": [
    {
     "name": "stdout",
     "output_type": "stream",
     "text": [
      "The temperature difference\n"
     ]
    },
    {
     "data": {
      "text/plain": [
       "24"
      ]
     },
     "execution_count": 76,
     "metadata": {},
     "output_type": "execute_result"
    }
   ],
   "source": [
    "T_inside = 22\n",
    "T_outside = -2\n",
    "deltaT = T_inside - T_outside\n",
    "print(\"The temperature difference\")\n",
    "deltaT"
   ]
  },
  {
   "cell_type": "code",
   "execution_count": 77,
   "metadata": {
    "collapsed": false
   },
   "outputs": [
    {
     "name": "stdout",
     "output_type": "stream",
     "text": [
      "The rate of heat transfer\n"
     ]
    },
    {
     "data": {
      "text/plain": [
       "1065.3098375243364"
      ]
     },
     "execution_count": 77,
     "metadata": {},
     "output_type": "execute_result"
    }
   ],
   "source": [
    "Q = U_tot*deltaT*A\n",
    "print(\"The rate of heat transfer\")\n",
    "Q\n"
   ]
  }
 ],
 "metadata": {
  "kernelspec": {
   "display_name": "Python 2",
   "language": "python",
   "name": "python2"
  },
  "language_info": {
   "codemirror_mode": {
    "name": "ipython",
    "version": 2
   },
   "file_extension": ".py",
   "mimetype": "text/x-python",
   "name": "python",
   "nbconvert_exporter": "python",
   "pygments_lexer": "ipython2",
   "version": "2.7.13"
  }
 },
 "nbformat": 4,
 "nbformat_minor": 2
}
