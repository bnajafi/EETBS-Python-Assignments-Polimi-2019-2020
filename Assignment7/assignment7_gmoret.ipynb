{
 "cells": [
  {
   "cell_type": "markdown",
   "metadata": {
    "deletable": true,
    "editable": true
   },
   "source": [
    "### Assignment 7 - Giulia Moret"
   ]
  },
  {
   "cell_type": "markdown",
   "metadata": {
    "deletable": true,
    "editable": true
   },
   "source": [
    "##### In this assignment I have to fill the window table with the required data"
   ]
  },
  {
   "cell_type": "code",
   "execution_count": 33,
   "metadata": {
    "collapsed": false,
    "deletable": true,
    "editable": true
   },
   "outputs": [
    {
     "name": "stdout",
     "output_type": "stream",
     "text": [
      "               Direction  width  Height  Area Window_ID Frame_type  \\\n",
      "Name                                                                 \n",
      "east                   E      8     1.8     0        5c      Fixed   \n",
      "west                   W      8     1.8     0        5c      Fixed   \n",
      "south-Fixed            S      2     1.8     0        5c      Fixed   \n",
      "south-Operable         S      2     1.8     0        5c   Operable   \n",
      "\n",
      "               Frame_material  U  SHGC  HF    ...     IAC_cl  IAC    Tx  Ed  \\\n",
      "Name                                          ...                             \n",
      "east                     Wood  0     0   0    ...          0    0  1.00   0   \n",
      "west                     Wood  0     0   0    ...          0    0  1.00   0   \n",
      "south-Fixed              Wood  0     0   0    ...          0    0  1.00   0   \n",
      "south-Operable           Wood  0     0   0    ...          0    0  0.64   0   \n",
      "\n",
      "                ED PXI  FFs  C_value  CF  Qcooling  \n",
      "Name                                                \n",
      "east             0   0    0        0   0         0  \n",
      "west             0   0    0        0   0         0  \n",
      "south-Fixed      0   0    0        0   0         0  \n",
      "south-Operable   0   0    0        0   0         0  \n",
      "\n",
      "[4 rows x 27 columns]\n"
     ]
    }
   ],
   "source": [
    "import os\n",
    "import pandas as pd\n",
    "tables_folder = \"/Users/giuliamoret/Documents/Documenti università/EETBS/CHARTS_AND_TABLES\"\n",
    "name_file_windows = \"windows.csv\"\n",
    "path_file_windows = os.path.join(tables_folder,name_file_windows) \n",
    "window_DF = pd.read_csv(path_file_windows, sep=\";\", index_col = 0, header=0) \n",
    "print(window_DF)"
   ]
  },
  {
   "cell_type": "code",
   "execution_count": 34,
   "metadata": {
    "collapsed": false,
    "deletable": true,
    "editable": true
   },
   "outputs": [
    {
     "data": {
      "text/plain": [
       "Index([u'Direction', u'width', u'Height', u'Area', u'Window_ID', u'Frame_type',\n",
       "       u'Frame_material', u'U', u'SHGC', u'HF', u'Q heating', u'SLF', u'Doh',\n",
       "       u'Xoh', u'Fshd', u'IntShading_ID', u'IntShading_closeness', u'IAC_cl',\n",
       "       u'IAC', u'Tx', u'Ed', u'ED', u'PXI', u'FFs', u'C_value', u'CF',\n",
       "       u'Qcooling'],\n",
       "      dtype='object')"
      ]
     },
     "execution_count": 34,
     "metadata": {},
     "output_type": "execute_result"
    }
   ],
   "source": [
    "window_DF.columns"
   ]
  },
  {
   "cell_type": "markdown",
   "metadata": {
    "deletable": true,
    "editable": true
   },
   "source": [
    "#### Step 1) calculate the area"
   ]
  },
  {
   "cell_type": "code",
   "execution_count": 35,
   "metadata": {
    "collapsed": true,
    "deletable": true,
    "editable": true
   },
   "outputs": [],
   "source": [
    "window_DF.loc[:,\"Area\"] = window_DF.loc[:,\"Height\"] * window_DF.loc[:,\"width\"]"
   ]
  },
  {
   "cell_type": "markdown",
   "metadata": {
    "deletable": true,
    "editable": true
   },
   "source": [
    "#### Step 2) define a function that finds the shade line factor (SLF)"
   ]
  },
  {
   "cell_type": "code",
   "execution_count": 36,
   "metadata": {
    "collapsed": true,
    "deletable": true,
    "editable": true
   },
   "outputs": [],
   "source": [
    "def SLF_finder(row):\n",
    "    \"\"\"I suppose that the latitude is 45\"\"\"\n",
    "    SLF_table = \"SLF.csv\"\n",
    "    path_SLF = os.path.join(tables_folder,SLF_table) \n",
    "    SLF_DF = pd.read_csv(path_SLF, sep=\";\", index_col = 0, header=0)\n",
    "    direction = row[\"Direction\"]\n",
    "    SLF_value = SLF_DF.loc[direction,\"45\"]\n",
    "    return SLF_value\n",
    "\n",
    "window_DF.loc[:,\"SLF\"] = window_DF.apply(SLF_finder, axis=1)"
   ]
  },
  {
   "cell_type": "markdown",
   "metadata": {
    "deletable": true,
    "editable": true
   },
   "source": [
    "#### Step 3) calculate the shaded fraction Fshd"
   ]
  },
  {
   "cell_type": "code",
   "execution_count": 37,
   "metadata": {
    "collapsed": false,
    "deletable": true,
    "editable": true
   },
   "outputs": [],
   "source": [
    "calcolo = (window_DF.loc[:,\"SLF\"]*window_DF.loc[:,\"Doh\"]-window_DF.loc[:,\"Xoh\"])/window_DF.loc[:,\"Height\"]"
   ]
  },
  {
   "cell_type": "code",
   "execution_count": 38,
   "metadata": {
    "collapsed": false,
    "deletable": true,
    "editable": true
   },
   "outputs": [],
   "source": [
    "window_DF.loc[:,\"Fshd\"] = calcolo\n",
    "window_DF.loc[window_DF.loc[:,\"Fshd\"]>1,\"Fshd\"] = 1\n",
    "window_DF.loc[window_DF.loc[:,\"Fshd\"]<0,\"Fshd\"] = 0"
   ]
  },
  {
   "cell_type": "markdown",
   "metadata": {
    "deletable": true,
    "editable": true
   },
   "source": [
    "#### Step 4) define a function that reads IAC_cl from table"
   ]
  },
  {
   "cell_type": "code",
   "execution_count": 39,
   "metadata": {
    "collapsed": false,
    "deletable": true,
    "editable": true
   },
   "outputs": [],
   "source": [
    "def IAC_cl_finder(row):\n",
    "    window_ID = row[\"Window_ID\"]\n",
    "    int_shading_type = row[\"IntShading_ID\"]\n",
    "    IAC_cl_table = \"IAC_cl.csv\"\n",
    "    path_IAC_cl = os.path.join(tables_folder,IAC_cl_table) \n",
    "    IAC_cl_DF = pd.read_csv(path_IAC_cl, sep=\";\", index_col = 1, header=0)\n",
    "    value_IAC_cl = IAC_cl_DF.loc[window_ID,int_shading_type]\n",
    "    return value_IAC_cl\n",
    "\n",
    "window_DF.loc[:,\"IAC_cl\"] = window_DF.apply(IAC_cl_finder, axis=1)"
   ]
  },
  {
   "cell_type": "markdown",
   "metadata": {
    "deletable": true,
    "editable": true
   },
   "source": [
    "#### Step 5) calculate IAC"
   ]
  },
  {
   "cell_type": "code",
   "execution_count": 40,
   "metadata": {
    "collapsed": false,
    "deletable": true,
    "editable": true
   },
   "outputs": [],
   "source": [
    "window_DF.loc[:,\"IAC\"] = 1.0 + window_DF.loc[:,\"IntShading_closeness\"] * (window_DF.loc[:,\"IAC_cl\"] - 1)"
   ]
  },
  {
   "cell_type": "markdown",
   "metadata": {
    "deletable": true,
    "editable": true
   },
   "source": [
    "#### Step 6) define two functions that read Ed and ED"
   ]
  },
  {
   "cell_type": "code",
   "execution_count": 41,
   "metadata": {
    "collapsed": false,
    "deletable": true,
    "editable": true
   },
   "outputs": [],
   "source": [
    "def ED_finder(row):\n",
    "    \"\"\"I assume that the latitude is 45\"\"\"\n",
    "    direction = row[\"Direction\"]\n",
    "    ED_table = \"BeamIrradiance.csv\"\n",
    "    path_ED = os.path.join(tables_folder,ED_table) \n",
    "    ED_DF = pd.read_csv(path_ED, sep=\";\", index_col = 0, header=0)\n",
    "    ED_value = ED_DF.loc[direction,\"45\"]\n",
    "    return ED_value\n",
    "\n",
    "def Ed_finder(row):\n",
    "    \"\"\"I assume that the latitude is 45\"\"\"\n",
    "    direction = row[\"Direction\"]\n",
    "    Ed_table = \"DiffuseIrradiance.csv\"\n",
    "    path_Ed = os.path.join(tables_folder,Ed_table) \n",
    "    Ed_DF = pd.read_csv(path_Ed, sep=\";\", index_col = 0, header=0)\n",
    "    Ed_value = Ed_DF.loc[direction,\"45\"]\n",
    "    return Ed_value\n",
    "\n",
    "window_DF.loc[:,\"Ed\"] = window_DF.apply(Ed_finder, axis=1)\n",
    "window_DF.loc[:,\"ED\"] = window_DF.apply(ED_finder, axis=1)"
   ]
  },
  {
   "cell_type": "markdown",
   "metadata": {
    "deletable": true,
    "editable": true
   },
   "source": [
    "#### Step 7) PXI calculation"
   ]
  },
  {
   "cell_type": "code",
   "execution_count": 42,
   "metadata": {
    "collapsed": true,
    "deletable": true,
    "editable": true
   },
   "outputs": [],
   "source": [
    "window_DF.loc[:,\"PXI\"] = window_DF.loc[:,\"Tx\"]*(window_DF.loc[:,\"Ed\"]+(1-window_DF.loc[:,\"Fshd\"])*window_DF.loc[:,\"ED\"])"
   ]
  },
  {
   "cell_type": "markdown",
   "metadata": {
    "deletable": true,
    "editable": true
   },
   "source": [
    "#### Step 8) define a function that reads from the table the FFs value"
   ]
  },
  {
   "cell_type": "code",
   "execution_count": 43,
   "metadata": {
    "collapsed": false,
    "deletable": true,
    "editable": true
   },
   "outputs": [],
   "source": [
    "def FFs_finder(row):\n",
    "    \"\"\"I assume that is a single family detached building\"\"\"\n",
    "    FFs_table = \"FFs.csv\"\n",
    "    path_FFs = os.path.join(tables_folder,FFs_table)\n",
    "    FFs_DF = pd.read_csv(path_FFs, sep=\";\", index_col = 0, header=0)\n",
    "    direction = row[\"Direction\"]\n",
    "    FFs_value = FFs_DF.loc[direction,\"SingleFamilyDetached\"]\n",
    "    return FFs_value\n",
    "\n",
    "window_DF.loc[:,\"FFs\"] = window_DF.apply(FFs_finder, axis=1)"
   ]
  },
  {
   "cell_type": "code",
   "execution_count": 46,
   "metadata": {
    "collapsed": false,
    "deletable": true,
    "editable": true
   },
   "outputs": [],
   "source": [
    "name_of_modified_file = \"window_gmoret.csv\"\n",
    "results_folder = \"/Users/giuliamoret/Documents/Documenti università/EETBS/ASSIGNMENT\"\n",
    "path_file = os.path.join(results_folder,name_of_modified_file)\n",
    "window_DF.to_csv(path_file, sep=\";\")"
   ]
  },
  {
   "cell_type": "code",
   "execution_count": null,
   "metadata": {
    "collapsed": true,
    "deletable": true,
    "editable": true
   },
   "outputs": [],
   "source": []
  },
  {
   "cell_type": "code",
   "execution_count": null,
   "metadata": {
    "collapsed": true
   },
   "outputs": [],
   "source": []
  }
 ],
 "metadata": {
  "kernelspec": {
   "display_name": "Python 2",
   "language": "python",
   "name": "python2"
  },
  "language_info": {
   "codemirror_mode": {
    "name": "ipython",
    "version": 2
   },
   "file_extension": ".py",
   "mimetype": "text/x-python",
   "name": "python",
   "nbconvert_exporter": "python",
   "pygments_lexer": "ipython2",
   "version": "2.7.13"
  }
 },
 "nbformat": 4,
 "nbformat_minor": 2
}
